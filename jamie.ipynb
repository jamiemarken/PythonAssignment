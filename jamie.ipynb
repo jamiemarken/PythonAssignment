{
 "cells": [
  {
   "cell_type": "markdown",
   "metadata": {},
   "source": [
    "## Jamie Marken\n",
    "## Coding with Python\n",
    "## GEOG 458"
   ]
  },
  {
   "cell_type": "markdown",
   "metadata": {},
   "source": [
    "Task 1\n",
    "\n",
    "This notebook works with data from the Yahtse Glacier project, run from 2009-2011. Throughout the notebook, practical skills in manipulating and characterizing seismic data is shown. This notebook is interesting to me because it represents dominant seismic frequencies of calving, characterizing background noise, and detection of calving icequakes with bargraphs, scatterplots, and spectograms.\n",
    "\n",
    "[Identifying and Characterizing Calving and Hydrology Seismicity at Yahtse Glacier](http://vm-141-40-254-17.cloud.mwn.de:8000/user/L8PYKexTijD7/notebooks/Glacial%20Seismology/hydro_and_calving-complete.ipynb)"
   ]
  },
  {
   "cell_type": "markdown",
   "metadata": {},
   "source": [
    "Task 2\n",
    "\n",
    "1.\n",
    "\n",
    "A)\n",
    "[Pillow](https://github.com/python-pillow/Pillow)\n",
    "Pillow is a Python Imaging Library that adds support for opening, manipulating, and saving various image file formats.\n",
    "\n",
    "[Pygame](http://www.pygame.org/wiki/about)\n",
    "Pygame is a free and open source Python programming language library for making multimedia applications. \n",
    "\n",
    "[SQLAlchemy](https://www.sqlalchemy.org)\n",
    "SQLAlchemy is used for efficient and high-performing database access. It gives application developers the full power and flexibility of SQL.\n",
    "\n",
    "B) \n",
    "[Plotnine](https://github.com/has2k1/plotnine)\n",
    "Plotnine serves a similar purpose as ggplot does for R.\n",
    "\n",
    "C)\n",
    "[pandas](https://pandas.pydata.org/)\n",
    "pandas is a Python library for data analysis. "
   ]
  },
  {
   "cell_type": "markdown",
   "metadata": {},
   "source": [
    "Task 3\n",
    "\n",
    "1. A difference in general syntax between R and Python: Boolean true/false values are written in all caps in R (TRUE/FALSE), but Python uses first letter capitalization (True/False).\n",
    "\n",
    "2. With data vizualization in Python, there is usually one main way to do it. While in R, there are at least a half dozen packages to make pair plots, for example. \n",
    "\n",
    "3. R has more built-in data analysis, while Python relies mostly on packages."
   ]
  },
  {
   "cell_type": "code",
   "execution_count": 42,
   "metadata": {},
   "outputs": [
    {
     "name": "stdout",
     "output_type": "stream",
     "text": [
      "Task 4\n",
      "I am a Penguin\n"
     ]
    }
   ],
   "source": [
    "##Task4\n",
    "\n",
    "a = \"I\"\n",
    "\n",
    "b = \"am\"\n",
    "\n",
    "c = \"a\"\n",
    "\n",
    "d = \"Penguin\"\n",
    "\n",
    "\n",
    "print a + \" \" + b + \" \" + c + \" \" + d"
   ]
  },
  {
   "cell_type": "code",
   "execution_count": 47,
   "metadata": {},
   "outputs": [
    {
     "name": "stdout",
     "output_type": "stream",
     "text": [
      "Task 5\n",
      "I am a 40 Penguin\n"
     ]
    }
   ],
   "source": [
    "##Task5\n",
    "\n",
    "number = \"40\"\n",
    "\n",
    "\n",
    "print a + \" \" + b + \" \" + c + \" \" + number + \" \" + d"
   ]
  },
  {
   "cell_type": "code",
   "execution_count": 77,
   "metadata": {},
   "outputs": [
    {
     "name": "stdout",
     "output_type": "stream",
     "text": [
      "Task 6\n"
     ]
    },
    {
     "data": {
      "text/plain": [
       "2"
      ]
     },
     "execution_count": 77,
     "metadata": {},
     "output_type": "execute_result"
    }
   ],
   "source": [
    "##Task6\n",
    "\n",
    "mystring = a + \" \" + b + \" \" + c + \" \" + number + \" \" + d\n",
    "\n",
    "mystring.count('a')\n",
    "\n",
    "#counting how many letter a's there are in the string"
   ]
  },
  {
   "cell_type": "code",
   "execution_count": 75,
   "metadata": {},
   "outputs": [
    {
     "data": {
      "text/plain": [
       "10"
      ]
     },
     "execution_count": 75,
     "metadata": {},
     "output_type": "execute_result"
    }
   ],
   "source": [
    "mystring.find(\"Penguin\")\n",
    "\n",
    "#finding the left-most index where the string is found"
   ]
  },
  {
   "cell_type": "code",
   "execution_count": 78,
   "metadata": {},
   "outputs": [
    {
     "name": "stdout",
     "output_type": "stream",
     "text": [
      "Task 7\n",
      "17\n"
     ]
    }
   ],
   "source": [
    "##Task7\n",
    "\n",
    "first_half = len(a + \" \" + b + \" \" + c + \" \" + number + \" \" + d)\n",
    "print(first_half)\n",
    "\n",
    "#Printed the first half of my sentence string"
   ]
  },
  {
   "cell_type": "code",
   "execution_count": 91,
   "metadata": {},
   "outputs": [
    {
     "name": "stdout",
     "output_type": "stream",
     "text": [
      "Task 8\n"
     ]
    },
    {
     "data": {
      "text/plain": [
       "'I am a  Penguin'"
      ]
     },
     "execution_count": 91,
     "metadata": {},
     "output_type": "execute_result"
    }
   ],
   "source": [
    "##Task8\n",
    "\n",
    "mystring.replace(\"40\",\"\")\n",
    "\n",
    "\n"
   ]
  },
  {
   "cell_type": "code",
   "execution_count": 94,
   "metadata": {},
   "outputs": [
    {
     "data": {
      "text/plain": [
       "'I am a 40 Panda'"
      ]
     },
     "execution_count": 94,
     "metadata": {},
     "output_type": "execute_result"
    }
   ],
   "source": [
    "mystring.replace(\"Penguin\",\"Panda\")\n"
   ]
  },
  {
   "cell_type": "code",
   "execution_count": 101,
   "metadata": {},
   "outputs": [
    {
     "name": "stdout",
     "output_type": "stream",
     "text": [
      "Task 9\n",
      "['I', 'am', 'a', 'big', '40', 'Penguin']\n"
     ]
    }
   ],
   "source": [
    "##Task9\n",
    "\n",
    "a = \"I\"\n",
    "\n",
    "b = \"am\"\n",
    "\n",
    "c = \"a\"\n",
    "\n",
    "d = \"Penguin\"\n",
    "\n",
    "e = \"big\"\n",
    "\n",
    "mystring = a + \" \" + b + \" \" + c + \" \" + e + \" \" + number + \" \" + d\n",
    "\n",
    "x = mystring.split()\n",
    "\n",
    "print(x)\n",
    "\n",
    "#Used \"split\" to call individual words back into the list \n",
    "#Added the word \"big\" into the middle of the list of individual words"
   ]
  },
  {
   "cell_type": "code",
   "execution_count": 15,
   "metadata": {},
   "outputs": [
    {
     "name": "stdout",
     "output_type": "stream",
     "text": [
      "Task 10\n",
      "15\n",
      "1st Quartile\n"
     ]
    }
   ],
   "source": [
    "##Task10\n",
    "\n",
    "import random\n",
    "\n",
    "x = random.randint(1,100)\n",
    "\n",
    "print(x)\n",
    "\n",
    "if x <= 25:\n",
    "    print(\"1st Quartile\")\n",
    "elif 25 < x <=50:\n",
    "    print(\"2nd Quartile\")\n",
    "elif 50 < x <=75:\n",
    "    print(\"3rd Quartile\")\n",
    "elif 75 < x <=100:\n",
    "    print(\"4th Quartile\")\n"
   ]
  },
  {
   "cell_type": "code",
   "execution_count": 162,
   "metadata": {},
   "outputs": [
    {
     "name": "stdout",
     "output_type": "stream",
     "text": [
      "Task 11\n",
      "warning residents of Nashua temperatures will reach sub-zero temperatures today, please stay indoors if possible\n",
      "warning residents of Austin temperatures will reach sub-zero temperatures today, please stay indoors if possible\n",
      "warning residents of Denver temperatures will reach sub-zero temperatures today, please stay indoors if possible\n",
      "warning residents of Boston temperatures will reach sub-zero temperatures today, please stay indoors if possible\n",
      "warning residents of Helena temperatures will reach sub-zero temperatures today, please stay indoors if possible\n",
      "warning residents of Houston temperatures will reach sub-zero temperatures today, please stay indoors if possible\n"
     ]
    }
   ],
   "source": [
    "##Task11\n",
    "\n",
    "mylist = [\"Nashua\", \"Austin\", \"Denver\", \"Boston\", \"Helena\", \"Houston\"]\n",
    "\n",
    "for CITY in mylist:\n",
    "    print \"warning residents of\" + \" \" + CITY + \" \" + \"temperatures will reach sub-zero temperatures today, please stay indoors if possible\"\n"
   ]
  },
  {
   "cell_type": "code",
   "execution_count": 165,
   "metadata": {},
   "outputs": [
    {
     "name": "stdout",
     "output_type": "stream",
     "text": [
      "Task 12\n",
      "U://Users/Zhang/Geog_458/Washington.shp\n"
     ]
    }
   ],
   "source": [
    "##Task12\n",
    "\n",
    "list = []\n",
    "\n",
    "walist = [\"Washington\"]\n",
    "\n",
    "for Washington in walist:\n",
    "    print \"U://Users/Zhang/Geog_458/\" + Washington + \".shp\"\n",
    "\n"
   ]
  },
  {
   "cell_type": "code",
   "execution_count": 166,
   "metadata": {},
   "outputs": [
    {
     "name": "stdout",
     "output_type": "stream",
     "text": [
      "U://Users/Zhang/Geog_458/California.shp\n"
     ]
    }
   ],
   "source": [
    "list = []\n",
    "\n",
    "calist = [\"California\"]\n",
    "\n",
    "for California in calist:\n",
    "    print \"U://Users/Zhang/Geog_458/\" + California + \".shp\""
   ]
  },
  {
   "cell_type": "code",
   "execution_count": 167,
   "metadata": {},
   "outputs": [
    {
     "name": "stdout",
     "output_type": "stream",
     "text": [
      "U://Users/Zhang/Geog_458/Nevada.shp\n"
     ]
    }
   ],
   "source": [
    "list = []\n",
    "\n",
    "nvlist = [\"Nevada\"]\n",
    "\n",
    "for Nevada in nvlist:\n",
    "    print \"U://Users/Zhang/Geog_458/\" + Nevada + \".shp\""
   ]
  },
  {
   "cell_type": "code",
   "execution_count": 168,
   "metadata": {},
   "outputs": [
    {
     "name": "stdout",
     "output_type": "stream",
     "text": [
      "U://Users/Zhang/Geog_458/Idaho.shp\n"
     ]
    }
   ],
   "source": [
    "list = []\n",
    "\n",
    "idlist = [\"Idaho\"]\n",
    "\n",
    "for Idaho in idlist:\n",
    "    print \"U://Users/Zhang/Geog_458/\" + Idaho + \".shp\""
   ]
  },
  {
   "cell_type": "code",
   "execution_count": 9,
   "metadata": {},
   "outputs": [
    {
     "name": "stdout",
     "output_type": "stream",
     "text": [
      "U://Users/Zhang/Geog_458/Montana.shp\n"
     ]
    }
   ],
   "source": [
    "list = []\n",
    "\n",
    "mtlist = [\"Montana\"]\n",
    "\n",
    "for Montana in mtlist:\n",
    "    print \"U://Users/Zhang/Geog_458/\" + Montana + \".shp\""
   ]
  },
  {
   "cell_type": "code",
   "execution_count": 10,
   "metadata": {},
   "outputs": [
    {
     "name": "stdout",
     "output_type": "stream",
     "text": [
      "U://Users/Zhang/Geog_458/Utah.shp\n"
     ]
    }
   ],
   "source": [
    "list = []\n",
    "\n",
    "utlist = [\"Utah\"]\n",
    "\n",
    "for Utah in utlist:\n",
    "    print \"U://Users/Zhang/Geog_458/\" + Utah + \".shp\""
   ]
  },
  {
   "cell_type": "code",
   "execution_count": 11,
   "metadata": {},
   "outputs": [
    {
     "name": "stdout",
     "output_type": "stream",
     "text": [
      "U://Users/Zhang/Geog_458/Colorado.shp\n"
     ]
    }
   ],
   "source": [
    "list = []\n",
    "\n",
    "colist = [\"Colorado\"]\n",
    "\n",
    "for Colorado in colist:\n",
    "    print \"U://Users/Zhang/Geog_458/\" + Colorado + \".shp\""
   ]
  },
  {
   "cell_type": "code",
   "execution_count": 12,
   "metadata": {},
   "outputs": [
    {
     "name": "stdout",
     "output_type": "stream",
     "text": [
      "U://Users/Zhang/Geog_458/NewMexico.shp\n"
     ]
    }
   ],
   "source": [
    "list = []\n",
    "\n",
    "nmlist = [\"NewMexico\"]\n",
    "\n",
    "for NewMexico in nmlist:\n",
    "    print \"U://Users/Zhang/Geog_458/\" + NewMexico + \".shp\""
   ]
  },
  {
   "cell_type": "code",
   "execution_count": 9,
   "metadata": {},
   "outputs": [
    {
     "name": "stdout",
     "output_type": "stream",
     "text": [
      " Task 13\n",
      "('T-minus', 10)\n",
      "('T-minus', 9)\n",
      "('T-minus', 8)\n",
      "('T-minus', 7)\n",
      "('T-minus', 6)\n",
      "('T-minus', 5)\n",
      "('T-minus', 4)\n",
      "('T-minus', 3)\n",
      "('T-minus', 2)\n",
      "('T-minus', 1)\n"
     ]
    }
   ],
   "source": [
    "##Task13\n",
    "\n",
    "countdown = 10\n",
    "\n",
    "while count:\n",
    "    print ('T-minus', count)\n",
    "    count -=1"
   ]
  },
  {
   "cell_type": "code",
   "execution_count": 11,
   "metadata": {},
   "outputs": [],
   "source": [
    "##Task14\n",
    "def countdown(count):\n",
    "  while count:\n",
    "    print ('T-minus', count)\n",
    "    count -=1\n"
   ]
  },
  {
   "cell_type": "code",
   "execution_count": 14,
   "metadata": {},
   "outputs": [
    {
     "name": "stdout",
     "output_type": "stream",
     "text": [
      "Task 14\n",
      "('T-minus', 14)\n",
      "('T-minus', 13)\n",
      "('T-minus', 12)\n",
      "('T-minus', 11)\n",
      "('T-minus', 10)\n",
      "('T-minus', 9)\n",
      "('T-minus', 8)\n",
      "('T-minus', 7)\n",
      "('T-minus', 6)\n",
      "('T-minus', 5)\n",
      "('T-minus', 4)\n",
      "('T-minus', 3)\n",
      "('T-minus', 2)\n",
      "('T-minus', 1)\n"
     ]
    }
   ],
   "source": [
    "##Task14\n",
    "countdown(14)"
   ]
  },
  {
   "cell_type": "code",
   "execution_count": 2,
   "metadata": {},
   "outputs": [],
   "source": [
    "##Task15\n",
    "\n",
    "def quartile_calc(x):\n",
    "    if x <= 25:\n",
    "        print(\"1st Quartile\")\n",
    "    elif 25 < x <=50:\n",
    "        print(\"2nd Quartile\")\n",
    "    elif 50 < x <=75:\n",
    "        print(\"3rd Quartile\")\n",
    "    elif 75 < x <=100:\n",
    "        print(\"4th Quartile\")\n",
    "        \n",
    "\n"
   ]
  },
  {
   "cell_type": "code",
   "execution_count": 3,
   "metadata": {},
   "outputs": [
    {
     "name": "stdout",
     "output_type": "stream",
     "text": [
      "2nd Quartile\n"
     ]
    }
   ],
   "source": [
    "quartile_calc(40)"
   ]
  },
  {
   "cell_type": "code",
   "execution_count": 4,
   "metadata": {},
   "outputs": [],
   "source": [
    "quartile_calc(101)"
   ]
  },
  {
   "cell_type": "code",
   "execution_count": 5,
   "metadata": {},
   "outputs": [
    {
     "name": "stdout",
     "output_type": "stream",
     "text": [
      "4th Quartile\n"
     ]
    }
   ],
   "source": [
    "quartile_calc(77)"
   ]
  },
  {
   "cell_type": "code",
   "execution_count": null,
   "metadata": {},
   "outputs": [],
   "source": []
  }
 ],
 "metadata": {
  "kernelspec": {
   "display_name": "Python 2",
   "language": "python",
   "name": "python2"
  },
  "language_info": {
   "codemirror_mode": {
    "name": "ipython",
    "version": 2
   },
   "file_extension": ".py",
   "mimetype": "text/x-python",
   "name": "python",
   "nbconvert_exporter": "python",
   "pygments_lexer": "ipython2",
   "version": "2.7.15"
  }
 },
 "nbformat": 4,
 "nbformat_minor": 2
}
